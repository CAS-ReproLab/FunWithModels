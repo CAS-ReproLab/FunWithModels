{
 "cells": [
  {
   "cell_type": "markdown",
   "id": "b51adcaf-5d93-4b77-9b6a-3f7dd96fc3d9",
   "metadata": {},
   "source": [
    "# Review Notes on Computational Models"
   ]
  },
  {
   "cell_type": "markdown",
   "id": "e3e2a079-3c16-4801-ba9b-60ebcc726fbe",
   "metadata": {},
   "source": [
    "## Finite State Automata\n",
    "\n",
    "A finite state automaton is an abstraction that consists of a set of states, a set of allowable inputs, a transition function, an initial state, and an accepted state.\n",
    "\n",
    "**Formal definition**: A finite state automaton consists of a tuple\n",
    "$$\n",
    "M=(Q, \\Sigma, \\delta, q_o, F)\n",
    "$$\n",
    "Where $Q$ is a set of finite states, $\\Sigma$ is the set of allowable inputs, $\\delta$ is the transition function that maps that inputs to state changes, $q_o$ is the initial state, and $F$ is the accepted state.\n",
    "\n",
    "An FSA can be deterministic or non-deterministic (a state may have multiple transitions for one input). *Need to learn more about this*."
   ]
  },
  {
   "cell_type": "markdown",
   "id": "9807e1fd-f356-4cd0-a5ad-329ea13f0040",
   "metadata": {},
   "source": [
    "## Turnstyle FSA: \n",
    "\n",
    "A turnstyle is a simple example of a FSA. The turnstyle has two states $[locked, unlocked]$, two inputs $[Coin, Push]$. The initial state is locked. There is no accepted state, I'll just use an empty set. \n",
    "\n",
    "Let's say the turnstyle requires one quarter to unlock. \n",
    "\n",
    "I'll make a general FSA class below. "
   ]
  },
  {
   "cell_type": "code",
   "execution_count": 33,
   "id": "3ed86caa-f211-4812-a05f-4224f4eced13",
   "metadata": {},
   "outputs": [],
   "source": [
    "class FSA:\n",
    "    def __init__(self, states, inputs, transition_function, initial_state, final_state):\n",
    "        self.states=states\n",
    "        self.inputs=inputs\n",
    "        self.transition_function= transition_function\n",
    "        self.current_state= initial_state\n",
    "        self.final_state= final_state\n",
    "\n",
    "    def transition(self, input_symbol): \n",
    "        if input_symbol in self.inputs:\n",
    "            if (self.current_state, input_symbol) in self.transition_function:\n",
    "                self.current_state= self.transition_function[(self.current_state, input_symbol)]\n",
    "                print(f' Transitioned to state: {self.current_state}')\n",
    "            else:\n",
    "                print(f' No transition defined for {self.current_state}, {input_symbol}')\n",
    "\n",
    "        else: \n",
    "            print(f' Invalid Input: {input_symbol} must be in {self.states}') \n",
    "\n",
    "    def check_accepting(self):\n",
    "        return self.current_state in self.final_state\n",
    "\n",
    "    def get_state(self):\n",
    "        return self.current_state\n",
    "\n",
    "    "
   ]
  },
  {
   "cell_type": "code",
   "execution_count": 34,
   "id": "6db732a5-f190-46ba-8b5e-40a10ca58dd3",
   "metadata": {},
   "outputs": [
    {
     "name": "stdout",
     "output_type": "stream",
     "text": [
      "\n",
      "Simulating turnstyle FSA ... \n",
      "\n",
      " Action: push\n",
      " No transition defined for locked, push\n",
      " Current State: locked\n",
      "------------------------------\n",
      " Action: coin\n",
      " Transitioned to state: unlocked\n",
      " Current State: unlocked\n",
      "------------------------------\n",
      " Action: push\n",
      " Transitioned to state: locked\n",
      " Current State: locked\n",
      "------------------------------\n",
      " Action: coin\n",
      " Transitioned to state: unlocked\n",
      " Current State: unlocked\n",
      "------------------------------\n",
      " Action: push\n",
      " Transitioned to state: locked\n",
      " Current State: locked\n",
      "------------------------------\n",
      " Action: coin\n",
      " Transitioned to state: unlocked\n",
      " Current State: unlocked\n",
      "------------------------------\n",
      " Action: push\n",
      " Transitioned to state: locked\n",
      " Current State: locked\n",
      "------------------------------\n"
     ]
    }
   ],
   "source": [
    "# Now to simulate the turnstyle\n",
    "# Define the elements of the tuple; Using dictionaries\n",
    "\n",
    "states= {'locked', 'unlocked'}\n",
    "inputs= ['coin', 'push']\n",
    "transition_function= {('locked', 'coin'): 'unlocked', ('unlocked', 'push'): 'locked'}\n",
    "initial_state= 'locked'\n",
    "final_state= set() # assume no accepting state\n",
    "\n",
    "# Instantiate the model\n",
    "turnstyle= FSA(states, inputs, transition_function, initial_state, final_state)\n",
    "\n",
    "# Simulation\n",
    "actions= ['push', 'coin', 'push', 'coin', 'push', 'coin', 'push']\n",
    "\n",
    "# Print the outcomes\n",
    "print('\\nSimulating turnstyle FSA ... \\n')\n",
    "for action in actions:\n",
    "    print(f' Action: {action}')\n",
    "    turnstyle.transition(action)\n",
    "    print(f' Current State: {turnstyle.get_state()}')\n",
    "    print('-' * 30)"
   ]
  },
  {
   "cell_type": "markdown",
   "id": "8cf9d533-792e-4adc-80bf-3e8356367faa",
   "metadata": {},
   "source": [
    "## Push Down Automata\n",
    "Extending the model to deal with the problem of inexact change to explore addition of simple stack memory. \n",
    "\n",
    "**Formal definition**: A pushdown automaton consists of a tuple with an additional term $\\Gamma$ representing the stack symbols.\n",
    "\n",
    "$$\n",
    "M=(Q, \\Sigma, \\delta, \\Gamma, q_o, F)\n",
    "$$\n",
    "\n",
    "Symbols can be stored in the stack, as determined by existing 'push' and 'pop' rules that modify the symbols in the stack. "
   ]
  },
  {
   "cell_type": "markdown",
   "id": "2ecdf098-8aff-4ad3-8ade-acc82da48dc9",
   "metadata": {},
   "source": [
    "## Turnstyle PDA\n",
    "\n",
    "The FSA turnstyle, could only take one coin that was the correct amount for unlocking. This is not very practical. To highlight the differences between these models, I'll add a stack memory mechanism to the turnstyle that stores dimes and nickels, with push/pop rules that compute the total amoung of change inserted (up to 25 cents). Just modifying the FSA for this..."
   ]
  },
  {
   "cell_type": "code",
   "execution_count": 38,
   "id": "ffd4981e-4880-4c32-8218-42336c1a2e29",
   "metadata": {},
   "outputs": [],
   "source": [
    "# PDA Simulation Class\n",
    "\n",
    "class PDA:\n",
    "    def __init__(self, states, inputs, stack_symbols, transition_function, initial_state, final_state):\n",
    "        self.states=states\n",
    "        self.inputs=inputs\n",
    "        self.stack_symbols=stack_symbols\n",
    "        self.stack= [] # initialize list to hold the stack\n",
    "        self.transition_function= transition_function\n",
    "        self.current_state= initial_state\n",
    "        self.final_state= final_state\n",
    "\n",
    "    def stack_value(self):\n",
    "        '''calcultes the value of coins in the stack'''\n",
    "        value_map+{'N':5, 'D':10, 'Q':25}\n",
    "        return sum(value_map[coin] for coin in self.stack)\n",
    "\n",
    "    def transition(self, input_symbol):\n",
    "        if input_symbol not in self.inputs:\n",
    "            print(f'invalid input: {input_symbol}')\n",
    "            return\n",
    "            \n",
    "        if (self.current_state, input_symbol) in self.transition_function:\n",
    "            action= self.transition_function[(self.current_state, input_symbol)]\n",
    "            # Stack operations\n",
    "            if action.get('push'):\n",
    "                self.stack.append(action['push']) # push coin to stack\n",
    "            if action.get('pop') and self.stack:\n",
    "                self.stack.pop() # pop from stack\n",
    "\n",
    "            if self.stack_value() >=25:\n",
    "                self.current_state= 'unlocked'\n",
    "                print(f' Turnstyle Unlocked')\n",
    "            else:\n",
    "                self.current_state= action['next_state']\n",
    "            # Clear stack if turnstyle is pushed\n",
    "            if action.get('clear_stack'):\n",
    "                self.stack.clear()\n",
    "            print(f' Action: {input_symbol}, New State: {self.current_state}, Stack: {self.stack} (Total: {self.stack_value()} cents')\n",
    "        else: \n",
    "            print(f' No transition defined for ({self.current_state}, {input_symbol}).')\n",
    "\n",
    "    def get_state(self):\n",
    "        ''' return the current state'''\n",
    "        return self.current_state\n",
    "\n",
    "    def get_stack(self): \n",
    "        ''' return the current stack list'''\n",
    "        return self.stack\n",
    "                    \n",
    "                              \n",
    " \n"
   ]
  },
  {
   "cell_type": "code",
   "execution_count": 44,
   "id": "548bbbec-514a-4255-9659-819d0af9c437",
   "metadata": {},
   "outputs": [
    {
     "name": "stdout",
     "output_type": "stream",
     "text": [
      " Simulating\n"
     ]
    },
    {
     "ename": "TypeError",
     "evalue": "transition() missing 1 required positional argument: 'input_symbol'",
     "output_type": "error",
     "traceback": [
      "\u001b[1;31m---------------------------------------------------------------------------\u001b[0m",
      "\u001b[1;31mTypeError\u001b[0m                                 Traceback (most recent call last)",
      "Cell \u001b[1;32mIn[44], line 27\u001b[0m\n\u001b[0;32m     25\u001b[0m \u001b[38;5;28mprint\u001b[39m(\u001b[38;5;124mf\u001b[39m\u001b[38;5;124m'\u001b[39m\u001b[38;5;124m Simulating\u001b[39m\u001b[38;5;124m'\u001b[39m)\n\u001b[0;32m     26\u001b[0m \u001b[38;5;28;01mfor\u001b[39;00m action \u001b[38;5;129;01min\u001b[39;00m actions: \n\u001b[1;32m---> 27\u001b[0m     result\u001b[38;5;241m=\u001b[39m \u001b[43mPDA\u001b[49m\u001b[38;5;241;43m.\u001b[39;49m\u001b[43mtransition\u001b[49m\u001b[43m(\u001b[49m\u001b[43maction\u001b[49m\u001b[43m)\u001b[49m\n\u001b[0;32m     28\u001b[0m     \u001b[38;5;28mprint\u001b[39m(\u001b[38;5;124mf\u001b[39m\u001b[38;5;124m'\u001b[39m\u001b[38;5;124m Current State: \u001b[39m\u001b[38;5;132;01m{\u001b[39;00mPDA\u001b[38;5;241m.\u001b[39mget_state()\u001b[38;5;132;01m}\u001b[39;00m\u001b[38;5;124m, Current Stack: \u001b[39m\u001b[38;5;132;01m{\u001b[39;00mPDA\u001b[38;5;241m.\u001b[39mget_stack()\u001b[38;5;132;01m}\u001b[39;00m\u001b[38;5;124m'\u001b[39m)\n\u001b[0;32m     29\u001b[0m     \u001b[38;5;28mprint\u001b[39m(\u001b[38;5;124m\"\u001b[39m\u001b[38;5;124m-\u001b[39m\u001b[38;5;124m\"\u001b[39m \u001b[38;5;241m*\u001b[39m \u001b[38;5;241m40\u001b[39m)\n",
      "\u001b[1;31mTypeError\u001b[0m: transition() missing 1 required positional argument: 'input_symbol'"
     ]
    }
   ],
   "source": [
    "# Now to simulate the turnstyle as a PDA\n",
    "\n",
    "states= {'locked', 'unlocked'}\n",
    "inputs= {'nickel', 'dime', 'quarter', 'push'}\n",
    "stack_symbols= {'N', 'D', 'Q'} \n",
    "Initial_state= 'locked'\n",
    "final_state= set()\n",
    "\n",
    "# Transition function\n",
    "transition_function= {\n",
    "    ('Locked', 'nickel'): {'next_state': 'locked', 'push': 'N'},\n",
    "    ('Locked', 'dime'): {'next_state': 'locked', 'push': 'D'},\n",
    "    ('Locked', 'quarter'): {'next_state': 'locked', 'push': 'Q'},\n",
    "    ('Locked', 'push'): {'next_state': 'locked', 'clear_stack': True},\n",
    "}\n",
    "\n",
    "# Instantiate the model\n",
    "Turnstyle_pda= PDA(states, inputs, stack_symbols, transition_function, initial_state, final_state)\n",
    "\n",
    "# Simulate\n",
    "actions= [\n",
    "    'nickel', 'nickel', 'nickel', 'nickel', 'nickel', 'push'\n",
    "]\n",
    "\n",
    "print(f' Simulating')\n",
    "for action in actions: \n",
    "    result= PDA.transition(action)\n",
    "    print(f' Current State: {PDA.get_state()}, Current Stack: {PDA.get_stack()}')\n",
    "    print(\"-\" * 40)"
   ]
  }
 ],
 "metadata": {
  "kernelspec": {
   "display_name": "Python 3 (ipykernel)",
   "language": "python",
   "name": "python3"
  },
  "language_info": {
   "codemirror_mode": {
    "name": "ipython",
    "version": 3
   },
   "file_extension": ".py",
   "mimetype": "text/x-python",
   "name": "python",
   "nbconvert_exporter": "python",
   "pygments_lexer": "ipython3",
   "version": "3.9.18"
  }
 },
 "nbformat": 4,
 "nbformat_minor": 5
}
