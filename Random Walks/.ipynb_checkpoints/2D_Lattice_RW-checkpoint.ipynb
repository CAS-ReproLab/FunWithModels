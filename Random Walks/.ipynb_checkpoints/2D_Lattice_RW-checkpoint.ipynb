{
 "cells": [
  {
   "cell_type": "markdown",
   "id": "b1b18cab-6f94-4e86-b85b-0509a71d5eb5",
   "metadata": {},
   "source": [
    "# 2D Random Walks on a lattice"
   ]
  },
  {
   "cell_type": "markdown",
   "id": "2cb3f278-ae1f-4af8-bc1e-4c7769badd9d",
   "metadata": {},
   "source": [
    "## Simple Model\n",
    "\n",
    "In a simple 2D random walk on a lattice, the walker initializes at position $x_o$. The walker can move in one of four allowable directions at each step: {up, down, left, right}. This model is discrete time, so each step takes a constant amount of time $t=n\\tau$ where $t$ is time, $n$ is the step number, and $\\tau$ is the time required for each step. "
   ]
  },
  {
   "cell_type": "code",
   "execution_count": null,
   "id": "d53a5929-99cb-4350-9573-c2cf1224e4b3",
   "metadata": {},
   "outputs": [],
   "source": []
  }
 ],
 "metadata": {
  "kernelspec": {
   "display_name": "Python 3 (ipykernel)",
   "language": "python",
   "name": "python3"
  },
  "language_info": {
   "codemirror_mode": {
    "name": "ipython",
    "version": 3
   },
   "file_extension": ".py",
   "mimetype": "text/x-python",
   "name": "python",
   "nbconvert_exporter": "python",
   "pygments_lexer": "ipython3",
   "version": "3.9.18"
  }
 },
 "nbformat": 4,
 "nbformat_minor": 5
}
