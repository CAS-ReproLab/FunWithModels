{
 "cells": [
  {
   "cell_type": "markdown",
   "id": "2125094a-9257-493d-a139-fb96c507a1c4",
   "metadata": {},
   "source": [
    "# Analog Circuit Emulator\n",
    "\n",
    "This notebook includes conceptual and programmatic details for the emulator."
   ]
  },
  {
   "cell_type": "markdown",
   "id": "9c07c733-75a7-47f6-9ada-8e70e418bb6f",
   "metadata": {
    "tags": []
   },
   "source": [
    "## Modified Nodal Analysis\n",
    "\n",
    "This program is based on MNA, a linear approximation of analog circuit behavior. It involves systematic calculation of voltages at nodes in the circuit using Kirchoff's law. We begin with `Ohm's law`: \n",
    "$$\n",
    "V=I\\,R\n",
    "$$\n",
    "where $V$ is voltage (potential), $I$ is current, and $R$ is resistance. \n",
    "\n",
    "We use nodal form to set up the framework for dealing with many currents, voltages, and resistances distributed over a circuit. Note that conductance $G$ is the inverse of resistance ($1/R$). Conductance is also sometimes called 'admittance'. So we have: \n",
    "$$\n",
    "I=V\\,G\n",
    "$$\n",
    "\n",
    "It's important to know that circuit diagrams are referenced in the direction of positive flow by convention, thus the reagion of largest potential is the cathode, and the lowest potential is the anode. Of course, this is backward from the actual electron flow. Mathematically, this doesn't matter, it just sets up the sign convention for each expression. \n",
    "\n",
    "In this model, the voltage is fixed between two nodes. The highest potential is at the positive pole of the emf and the lowest potential is at the ground. For example if the voltage source is a battery, the ground is the anode. Apparently, the ground can be any reference point in the circuit, but is always given a zero voltage. \n",
    "\n",
    "MNA is a linear analysis where: \n",
    "$$\n",
    "G\\cdot x= I\n",
    "$$\n",
    "\n",
    "where $G$ is the `conductance matrix` that captures all of the constraints in the circuit (e.g., ohmic resistance). $x$ is a `vector of unknowns`, including voltages at each node and currents through voltage sources. $I$ is the `source vector`, including known voltage sources and currents. \n",
    "\n",
    "There are two important relations to keep in mind: \n",
    "1. Kirchoff's Current Law- states that the sum of current coming into any node must equal 0. That is, the currents are signed. If $+1$ comes in $-1$ must leave. \n",
    "2. Kirchoff's Voltage Law- states that within a closed loop, the total voltage sums to the voltage at the power source. In other words, the sum of voltage drops = the sum of voltage rises. "
   ]
  },
  {
   "cell_type": "markdown",
   "id": "72af8115-9f98-4ef7-9c34-4eef1a0fb217",
   "metadata": {},
   "source": [
    "\\end{bmatrix}\r\n",
    "$$$$\n"
   ]
  },
  {
   "cell_type": "markdown",
   "id": "c7e888c4-f6ca-4872-b9c6-86f6e167c911",
   "metadata": {},
   "source": [
    "## Simple Example\n",
    "\n",
    "We'll start with a simple divider circuit with one voltage source 'V+' applying a 5.0 V potential from the positive pole 'V+' to the negative pole (ground; 'GND'). There is one resistance (1000$\\Omega$), and arbitrary output device 'OUT', and a second (2000$\\Omega$) resistance. All together: \n",
    "\n",
    "V+ -> Resistance -> OUT -> Resistance -> GND\n",
    "\n",
    "Let V+ = $V_1$, OUT = $V_2$, and the current through the voltage source = $I_s$.\n",
    "\n",
    "In nodal analysis we want to know two things: \n",
    "\n",
    "1. what is the voltage at each node?\n",
    "2. what is the current between each node?\n",
    "\n",
    "KCL states that current can't accumulate, what comes into a node, must leave a node in equal proportion. KVL states that the potential in the circuit can't exceed the source (can't invent energy you don't have). \n",
    "\n",
    "The first equation of interest applies these laws from the first node to the second, i.e., V+ -> R1 -> OUT. In other words, we want to know the current from the source, through the first resistor to the OUT device; and we want to know what effect the resistance has on the voltage at the OUT node. Recall that $V\\,G=I$. Through R1, the conductance is $\\frac{1}{1000}(\\Omega)$. So the total current is the difference in current across the resistor. \n",
    "$$\n",
    "I_s= I_{s} - I_{OUT} = V_1\\frac{1}{1000} - V_2\\frac{1}{1000}\n",
    "$$\n",
    "\n",
    "KCL states that the total current at any node must be $0$, so, this gives us the first of three linear equations in the system. It describes the current through resistance R1 and the current through the voltage source. It is of the form:\n",
    "$$\n",
    "\\frac{V_1-V_2}{1000} - I_s = 0\n",
    "$$\n",
    "\n",
    "When arranging the terms think about it like summing the nodes. If 'away from the node' is positive by convention, 'to the node' is negative. So to go from V+ to OUT, we sum the currents which are given by $+V_1\\,\\frac{1}{R1}$ and $-V_2\\,\\frac{1}{R1})$. In other words, the sum of the currents through the voltage source and through its connected resistor must be zero. Current in, current out. Now, in order to solve this in matrix form later, we need to be able to separate the unknowns, so we rearrange as follows: \n",
    "\n",
    "$$\n",
    "V_1\\,\\frac{1}{1000} - V_2\\,\\frac{1}{1000} - (1)I_s = 0\n",
    "$$\n",
    "\n",
    "This will give us this nice vector of unknowns $x$: \n",
    "\n",
    "$$\n",
    "x= \\begin{bmatrix} \n",
    "V_1 \\\\ \n",
    "V_2 \\\\ \n",
    "I_s \n",
    "\\end{bmatrix}\n",
    "$$\n",
    "\n",
    "Next, we formulate an equation for the current from OUT -> R2 -> GND. This is the second linear equation of the form: \n",
    "$$\n",
    "\\frac{V_2-V_1}{1000} + \\frac{V_2 - 0}{2000} - (0)\\,I_s = 0 \n",
    "$$\n",
    "\n",
    "The left term is the current through R1 (notice that is has the opposite sign of the expression in the first equation), the second term is the current through R2. Recall that the GND always has a potential of 0 V. The third term is a placeholder for the unknown furrent through the source, but is simply 0 here.\n",
    "\n",
    "Again, to write this in matrix form for the whole system, each term can only have one variable, so we rearrange as follows: \n",
    "$$\n",
    "-V_1\\,\\frac{1}{1000} + V_2\\,(\\frac{1}{1000} + \\frac{1}{2000}) - (0)\\,I_s = 0\n",
    "$$\n",
    "\n",
    "The final equation in the system describes the total voltage constraint on the system. It is the voltage from source to GND. \n",
    "\n",
    "$$\n",
    "V_1 - (0)\\,V_2 - (0)\\,I_s = 5\n",
    "$$\n",
    "\n",
    "Now we can put the whole thing in matrix form to solve: \n",
    "\n",
    "$$\n",
    "\\begin{bmatrix}\n",
    "\\phantom{-}0.001 & -0.001  & -1     \\\\\n",
    "-0.001  & \\phantom{-}0.0015 & \\phantom{-}0     \\\\\n",
    "\\phantom{-}1     & 0        & 0\n",
    "\\end{bmatrix}\n",
    "\\begin{bmatrix}\n",
    "V_1 \\\\\n",
    "V_2 \\\\\n",
    "I_s\n",
    "\\end{bmatrix}\n",
    "=\n",
    "\\begin{bmatrix}\n",
    "0 \\\\\n",
    "0 \\\\\n",
    "5\n",
    "\\end{bmatrix}\n",
    "$$"
   ]
  },
  {
   "cell_type": "markdown",
   "id": "43dfeecd-d951-43dd-a68d-31e47d6bbd4d",
   "metadata": {},
   "source": [
    "# componenents.py\n",
    "\n",
    "This program defines class objects for different types of circuit components such as a voltage source (emf), resistor, etc. "
   ]
  }
 ],
 "metadata": {
  "kernelspec": {
   "display_name": "Python 3 (ipykernel)",
   "language": "python",
   "name": "python3"
  },
  "language_info": {
   "codemirror_mode": {
    "name": "ipython",
    "version": 3
   },
   "file_extension": ".py",
   "mimetype": "text/x-python",
   "name": "python",
   "nbconvert_exporter": "python",
   "pygments_lexer": "ipython3",
   "version": "3.9.18"
  }
 },
 "nbformat": 4,
 "nbformat_minor": 5
}
