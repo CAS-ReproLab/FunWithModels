{
 "cells": [
  {
   "cell_type": "markdown",
   "id": "2125094a-9257-493d-a139-fb96c507a1c4",
   "metadata": {},
   "source": [
    "# Analog Circuit Emulator\n",
    "\n",
    "This notebook includes conceptual and programmatic details for the emulator."
   ]
  },
  {
   "cell_type": "markdown",
   "id": "9c07c733-75a7-47f6-9ada-8e70e418bb6f",
   "metadata": {
    "tags": []
   },
   "source": [
    "## Modified Nodal Analysis\n",
    "\n",
    "This program is based on MNA, a linear approximation of analog circuit behavior. It involves systematic calculation of voltages at nodes in the circuit using Kirchoff's law. We begin with `Ohm's law`: \n",
    "$$\n",
    "V=I\\,R\n",
    "$$\n",
    "where $V$ is voltage (potential), $I$ is current, and $R$ is resistance. \n",
    "\n",
    "We use nodal form to set up the framework for dealing with many currents, voltages, and resistances distributed over a circuit. Note that conductance $G$ is the inverse of resistance ($1/R$). Conductance is also sometimes called 'admittance'. So we have: \n",
    "$$\n",
    "I=V\\,G\n",
    "$$\n",
    "\n",
    "It's important to know that circuit diagrams are referenced in the direction of positive flow by convention, thus the reagion of largest potential is the cathode, and the lowest potential is the anode. Of course, this is backward from the actual electron flow. Mathematically, this doesn't matter, it just sets up the sign convention for each expression. \n",
    "\n",
    "In this model, the voltage is fixed between two nodes. The highest potential is at the positive pole of the emf and the lowest potential is at the ground. For example if the voltage source is a battery, the ground is the anode. Apparently, the ground can be any reference point in the circuit, but is always given a zero voltage. \n",
    "\n",
    "MNA is a linear analysis where: \n",
    "$$\n",
    "G\\cdot x= I\n",
    "$$\n",
    "\n",
    "where $G$ is the `conductance matrix` that captures all of the constraints in the circuit (e.g., ohmic resistance). $x$ is a `vector of unknowns`, including voltages at each node and currents through voltage sources. $I$ is the `source vector`, including known known voltage sources and currents. \n",
    "\n",
    "There are two important relations to keep in mind: \n",
    "1. Kirchoff's Current Law- states that the sum of current coming into any node must equal 0. That is, the currents are signed. If $+1$ comes in $-1$ must leave. \n",
    "2. Kirchoff's Voltage Law- states that within a closed loop, the total voltage sums to the voltage at the power source. In other words, the sum of voltage drops = the sum of voltage rises. "
   ]
  },
  {
   "cell_type": "markdown",
   "id": "72af8115-9f98-4ef7-9c34-4eef1a0fb217",
   "metadata": {},
   "source": [
    "## Simple Example\n",
    "\n",
    "We'll start with a simple divider circuit with one voltage source 'V+' applying a 5.0 V potential from the positive pole 'V+' to the negative pole (ground; 'GND'). There is one resistance (1000$\\Omega$), and arbitrary output device 'OUT', and a second (2000$\\Omega$) resistance. All together: \n",
    "\n",
    "V+ -> Resistance -> OUT -> Resistance -> GND\n",
    "\n",
    "Let V+ = $V_1$, OUT = $V_2$, and the current through the voltage source = $I_s$.\n",
    "\n",
    "The first equation of interest is applying Kirchoff's current law at the component connected at the voltage source. Recall that $I=V\\,G$. Through resistance 1, the conductance is $\\frac{1}{1000}(\\Omega)$. So the total current is the difference in current across the resistor. \n",
    "$$\n",
    "I_s= I_{s,1} - I_{s,2} = \\frac{V_1}{1000} - \\frac{V_2}{1000}\n",
    "$$\n",
    "\n",
    "KCL states that the total current at any node must be $0$, so,\n",
    "\n",
    "$$\n",
    "\\frac{V_1-V_2}{1000}-I_s=0\n",
    "$$\n",
    "\n",
    "Recall that the current, by convention is positive (opposite of electron flow), and goes from V+ to R1. $R1$: $\\frac{V_1-V_2}{1000}$. The current through the voltage source is negative because it enters the node. So, \n",
    "$$\n",
    "\\frac{V_1-V_2}{1000}-I_s=0\n",
    "$$\n",
    "\n",
    "Then we have the vector of unknowns $x$: \n",
    "\n",
    "$$\n",
    "x= \\begin{bmatrix} \n",
    "V_1 \\\\ \n",
    "V_2 \\\\ \n",
    "I_s \n",
    "\\end{bmatrix}\n",
    "$$\n",
    "\n"
   ]
  },
  {
   "cell_type": "markdown",
   "id": "43dfeecd-d951-43dd-a68d-31e47d6bbd4d",
   "metadata": {},
   "source": [
    "# componenents.py\n",
    "\n",
    "This program defines class objects for different types of circuit components such as a voltage source (emf), resistor, etc. "
   ]
  }
 ],
 "metadata": {
  "kernelspec": {
   "display_name": "Python 3 (ipykernel)",
   "language": "python",
   "name": "python3"
  },
  "language_info": {
   "codemirror_mode": {
    "name": "ipython",
    "version": 3
   },
   "file_extension": ".py",
   "mimetype": "text/x-python",
   "name": "python",
   "nbconvert_exporter": "python",
   "pygments_lexer": "ipython3",
   "version": "3.9.12"
  }
 },
 "nbformat": 4,
 "nbformat_minor": 5
}
